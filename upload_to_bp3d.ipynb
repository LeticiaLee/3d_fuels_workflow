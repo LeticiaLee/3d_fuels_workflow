{
 "cells": [
  {
   "cell_type": "code",
   "execution_count": 1,
   "id": "aa69a432-5ed1-433b-84a0-0017713e8f14",
   "metadata": {},
   "outputs": [],
   "source": [
    "# import BP3D SDK\n",
    "import bp3d"
   ]
  },
  {
   "cell_type": "code",
   "execution_count": null,
   "id": "8bb1724d-dbae-4b0e-8c8f-29cef8c74b3f",
   "metadata": {},
   "outputs": [],
   "source": [
    "# set parameters\n",
    "gui_dir = '/path/to/gui/directory'\n",
    "ensemble_name = 'ensemble name'\n",
    "user = 'bp3dusername' #BP3D username\n",
    "password = 'password' #BP3D password\n",
    "\n",
    "wind_speed = [2,4,6] #list of wind speeds in mph\n",
    "wind_speed = [ws/2.237 for ws in wind_speed] #change from m/s to mph\n",
    "\n",
    "wind_direction = [80, 90, 100] #list of wind directions\n"
   ]
  },
  {
   "cell_type": "code",
   "execution_count": null,
   "id": "b5f96fa2-6dd0-4d0f-aa5b-d247bfcd046d",
   "metadata": {},
   "outputs": [
    {
     "name": "stdout",
     "output_type": "stream",
     "text": [
      "collecting fuel files for upload\n",
      "found treesrhof.dat\n",
      "found treesfueldepth.dat\n",
      "found treesmoist.dat\n",
      "found ff_pad.geojson\n",
      "found ff_blackline.geojson\n",
      "found fuel-array.zip\n",
      "not found gridlist (optional)\n",
      "found fastfuels_topo.dat\n",
      "found treesss.dat\n",
      "found GUIdata.json\n",
      "uploading fuels. this can take awhile.\n",
      "Warning: no explicitly removed fuels.\n"
     ]
    }
   ],
   "source": [
    "# set up the BP3D Client\n",
    "c = bp3d.Client(user=user, password=password)\n",
    "\n",
    "# get ready to import project from GUI Folder\n",
    "qf_ensemble = c.import_project(name = ensemble_name, path = gui_dir)\n",
    "\n",
    "# define the ignition pattern\n",
    "pattern = f'{gui_dir}/ignition_pattern.json'\n",
    "\n",
    "# add the ignition pattern to the ensemble\n",
    "ign  = qf_ensemble.add_ignition(dat = f'{gui_dir}/ignite.dat', pattern = pattern)\n",
    "\n",
    "# set the environmental variables\n",
    "qf_ensemble.add_runs(\n",
    "                ignition=ign,\n",
    "                wind_speed=wind_speed,\n",
    "                wind_direction=wind_direction,\n",
    "                replace=True)\n",
    "\n",
    "# run ensembles\n",
    "qf_ensemble.execute()"
   ]
  },
  {
   "cell_type": "code",
   "execution_count": null,
   "id": "c33af249-162b-4006-9ce0-003f11c484a2",
   "metadata": {},
   "outputs": [],
   "source": []
  }
 ],
 "metadata": {
  "kernelspec": {
   "display_name": "Python 3 (ipykernel)",
   "language": "python",
   "name": "python3"
  },
  "language_info": {
   "codemirror_mode": {
    "name": "ipython",
    "version": 3
   },
   "file_extension": ".py",
   "mimetype": "text/x-python",
   "name": "python",
   "nbconvert_exporter": "python",
   "pygments_lexer": "ipython3",
   "version": "3.12.4"
  }
 },
 "nbformat": 4,
 "nbformat_minor": 5
}
